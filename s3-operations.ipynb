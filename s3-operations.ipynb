{
 "cells": [
  {
   "cell_type": "code",
   "execution_count": 2,
   "id": "437f30ad-b459-4284-b571-50b20552b6a5",
   "metadata": {},
   "outputs": [],
   "source": [
    "import boto3\n",
    "import pandas as pd\n",
    "import numpy as np\n",
    "import os\n",
    "import logging\n",
    "import boto3\n",
    "from botocore.exceptions import ClientError\n",
    "import os\n",
    "from dotenv import load_dotenv\n",
    "from const import aws_variables"
   ]
  },
  {
   "cell_type": "code",
   "execution_count": 3,
   "id": "dd1d8fcf-725d-43cf-9a58-016d66c289ef",
   "metadata": {},
   "outputs": [
    {
     "name": "stdout",
     "output_type": "stream",
     "text": [
      "/home/iffi/Videos/private_key_commands/S3_operation\n"
     ]
    }
   ],
   "source": [
    "!pwd"
   ]
  },
  {
   "cell_type": "markdown",
   "id": "6939bde8-6cd6-4ec2-af8e-48a1c3066420",
   "metadata": {},
   "source": [
    "# Uploading file to S3 "
   ]
  },
  {
   "cell_type": "code",
   "execution_count": 4,
   "id": "9daefd92-8e74-4ddf-8b7c-d66bac48dcd8",
   "metadata": {},
   "outputs": [
    {
     "data": {
      "text/plain": [
       "True"
      ]
     },
     "execution_count": 4,
     "metadata": {},
     "output_type": "execute_result"
    }
   ],
   "source": [
    "def upload_file(file_name, bucket, object_name=None):\n",
    "    \"\"\"Upload a file to an S3 bucket\n",
    "\n",
    "    :param fiAWS_S3_BUCKETle_name: File to upload\n",
    "    :param bucket: Bucket to upload to\n",
    "    :param object_name: S3 object name. If not specified then file_name is used\n",
    "    :return: True if file was uploaded, else False\n",
    "    \"\"\"\n",
    "\n",
    "    # If S3 object_name was not specified, use file_name\n",
    "    if object_name is None:\n",
    "        object_name = os.path.basename(file_name)\n",
    "\n",
    "    # Upload the file\n",
    "    s3_client = boto3.client('s3', \n",
    "                             region_name=aws_variables.S3_REGION,\n",
    "                            aws_access_key_id=aws_variables.AWS_ACCESS_KEY_ID,\n",
    "                            aws_secret_access_key=aws_variables.AWS_SECRET_ACCESS_KEY)\n",
    "    try:\n",
    "        response = s3_client.upload_file(file_name, bucket, object_name)\n",
    "    except ClientError as e:\n",
    "        logging.error(e)\n",
    "        return False\n",
    "    return True\n",
    "\n",
    "bucket =  aws_variables.S3_BUCKET\n",
    "file_name = 'EMA2233M10102_model_response.csv'\n",
    "upload_file(file_name,bucket,'sample.csv')\n"
   ]
  },
  {
   "cell_type": "markdown",
   "id": "219fd942-8e35-4fa7-8e05-17c8a5fd23ab",
   "metadata": {},
   "source": [
    "## Downloading Files from S3"
   ]
  },
  {
   "cell_type": "code",
   "execution_count": 5,
   "id": "672a990f-f954-4abe-9960-88e654a5f9e3",
   "metadata": {},
   "outputs": [],
   "source": [
    "s3_client = boto3.client('s3', \n",
    "                             region_name=aws_variables.S3_REGION,\n",
    "                            aws_access_key_id=aws_variables.AWS_ACCESS_KEY_ID,\n",
    "                            aws_secret_access_key=aws_variables.AWS_SECRET_ACCESS_KEY\n",
    "                        )\n",
    "\n",
    "s3_client.download_file(aws_variables.S3_BUCKET,\n",
    "                       'sample.csv', # filename or path on s3\n",
    "                        'sample.csv' # filename or path you want to save on local file\n",
    "                       )"
   ]
  },
  {
   "cell_type": "markdown",
   "id": "dc0cda6f-1d8f-4f77-9bd6-d6a68dd93205",
   "metadata": {},
   "source": [
    "## Reading files from s3"
   ]
  },
  {
   "cell_type": "code",
   "execution_count": 6,
   "id": "fe574710-10e8-4cbe-a8ec-0305e75a0e40",
   "metadata": {},
   "outputs": [
    {
     "name": "stdout",
     "output_type": "stream",
     "text": [
      "Successful S3 get_object response\n",
      "   shot_id            shot_time     COUNTER_ID  DATA_ID_DC  cycle_time  \\\n",
      "0      1.0  2024-03-19 21:55:28  EMA2233M10102     6321190          30   \n",
      "1      2.0  2024-03-19 21:55:59  EMA2233M10102     6321190          31   \n",
      "2      3.0  2024-03-19 21:56:30  EMA2233M10102     6321190          30   \n",
      "3      4.0  2024-03-19 21:57:01  EMA2233M10102     6321190          30   \n",
      "4      5.0  2024-03-19 21:57:32  EMA2233M10102     6321190          31   \n",
      "\n",
      "     temp  value1  value2  similarityMetric  similarityMetricHr  \\\n",
      "0  35.800       1       0                 0                   0   \n",
      "1  35.794       1       0                 0                   0   \n",
      "2  35.789       1       0                 0                   0   \n",
      "3  35.783       1       0                 0                   0   \n",
      "4  35.777       1       0                 0                   0   \n",
      "\n",
      "   cycletime_upper_threshold  cycletime_lower_threshold  ACCELERATIONS  \n",
      "0                         33                         27            NaN  \n",
      "1                         33                         27            NaN  \n",
      "2                         33                         27            NaN  \n",
      "3                         33                         27            NaN  \n",
      "4                         33                         27            NaN  \n"
     ]
    }
   ],
   "source": [
    "s3_client = boto3.client('s3', \n",
    "                             region_name=aws_variables.S3_REGION,\n",
    "                            aws_access_key_id=aws_variables.AWS_ACCESS_KEY_ID,\n",
    "                            aws_secret_access_key=aws_variables.AWS_SECRET_ACCESS_KEY)\n",
    "\n",
    "response = s3_client.get_object(Bucket=aws_variables.S3_BUCKET,\n",
    "                               Key = 'sample.csv'\n",
    "                               )\n",
    "if response['ResponseMetadata']['HTTPStatusCode'] ==200:\n",
    "        print(f\"Successful S3 get_object response\")\n",
    "        data =  pd.read_csv(response.get('Body'))\n",
    "        print(data.head())"
   ]
  },
  {
   "cell_type": "markdown",
   "id": "b6d8e15f-4b24-4e91-ab8b-347064417c23",
   "metadata": {},
   "source": [
    "## reading files from s3 using s3fs api"
   ]
  },
  {
   "cell_type": "code",
   "execution_count": 7,
   "id": "e0bb5a77-3222-48aa-8607-4d291d32b6c2",
   "metadata": {},
   "outputs": [
    {
     "data": {
      "text/html": [
       "<div>\n",
       "<style scoped>\n",
       "    .dataframe tbody tr th:only-of-type {\n",
       "        vertical-align: middle;\n",
       "    }\n",
       "\n",
       "    .dataframe tbody tr th {\n",
       "        vertical-align: top;\n",
       "    }\n",
       "\n",
       "    .dataframe thead th {\n",
       "        text-align: right;\n",
       "    }\n",
       "</style>\n",
       "<table border=\"1\" class=\"dataframe\">\n",
       "  <thead>\n",
       "    <tr style=\"text-align: right;\">\n",
       "      <th></th>\n",
       "      <th>shot_id</th>\n",
       "      <th>shot_time</th>\n",
       "      <th>COUNTER_ID</th>\n",
       "      <th>DATA_ID_DC</th>\n",
       "      <th>cycle_time</th>\n",
       "      <th>temp</th>\n",
       "      <th>value1</th>\n",
       "      <th>value2</th>\n",
       "      <th>similarityMetric</th>\n",
       "      <th>similarityMetricHr</th>\n",
       "      <th>cycletime_upper_threshold</th>\n",
       "      <th>cycletime_lower_threshold</th>\n",
       "      <th>ACCELERATIONS</th>\n",
       "    </tr>\n",
       "  </thead>\n",
       "  <tbody>\n",
       "    <tr>\n",
       "      <th>0</th>\n",
       "      <td>1.0</td>\n",
       "      <td>2024-03-19 21:55:28</td>\n",
       "      <td>EMA2233M10102</td>\n",
       "      <td>6321190</td>\n",
       "      <td>30</td>\n",
       "      <td>35.800</td>\n",
       "      <td>1</td>\n",
       "      <td>0</td>\n",
       "      <td>0</td>\n",
       "      <td>0</td>\n",
       "      <td>33</td>\n",
       "      <td>27</td>\n",
       "      <td>NaN</td>\n",
       "    </tr>\n",
       "    <tr>\n",
       "      <th>1</th>\n",
       "      <td>2.0</td>\n",
       "      <td>2024-03-19 21:55:59</td>\n",
       "      <td>EMA2233M10102</td>\n",
       "      <td>6321190</td>\n",
       "      <td>31</td>\n",
       "      <td>35.794</td>\n",
       "      <td>1</td>\n",
       "      <td>0</td>\n",
       "      <td>0</td>\n",
       "      <td>0</td>\n",
       "      <td>33</td>\n",
       "      <td>27</td>\n",
       "      <td>NaN</td>\n",
       "    </tr>\n",
       "    <tr>\n",
       "      <th>2</th>\n",
       "      <td>3.0</td>\n",
       "      <td>2024-03-19 21:56:30</td>\n",
       "      <td>EMA2233M10102</td>\n",
       "      <td>6321190</td>\n",
       "      <td>30</td>\n",
       "      <td>35.789</td>\n",
       "      <td>1</td>\n",
       "      <td>0</td>\n",
       "      <td>0</td>\n",
       "      <td>0</td>\n",
       "      <td>33</td>\n",
       "      <td>27</td>\n",
       "      <td>NaN</td>\n",
       "    </tr>\n",
       "    <tr>\n",
       "      <th>3</th>\n",
       "      <td>4.0</td>\n",
       "      <td>2024-03-19 21:57:01</td>\n",
       "      <td>EMA2233M10102</td>\n",
       "      <td>6321190</td>\n",
       "      <td>30</td>\n",
       "      <td>35.783</td>\n",
       "      <td>1</td>\n",
       "      <td>0</td>\n",
       "      <td>0</td>\n",
       "      <td>0</td>\n",
       "      <td>33</td>\n",
       "      <td>27</td>\n",
       "      <td>NaN</td>\n",
       "    </tr>\n",
       "    <tr>\n",
       "      <th>4</th>\n",
       "      <td>5.0</td>\n",
       "      <td>2024-03-19 21:57:32</td>\n",
       "      <td>EMA2233M10102</td>\n",
       "      <td>6321190</td>\n",
       "      <td>31</td>\n",
       "      <td>35.777</td>\n",
       "      <td>1</td>\n",
       "      <td>0</td>\n",
       "      <td>0</td>\n",
       "      <td>0</td>\n",
       "      <td>33</td>\n",
       "      <td>27</td>\n",
       "      <td>NaN</td>\n",
       "    </tr>\n",
       "  </tbody>\n",
       "</table>\n",
       "</div>"
      ],
      "text/plain": [
       "   shot_id            shot_time     COUNTER_ID  DATA_ID_DC  cycle_time  \\\n",
       "0      1.0  2024-03-19 21:55:28  EMA2233M10102     6321190          30   \n",
       "1      2.0  2024-03-19 21:55:59  EMA2233M10102     6321190          31   \n",
       "2      3.0  2024-03-19 21:56:30  EMA2233M10102     6321190          30   \n",
       "3      4.0  2024-03-19 21:57:01  EMA2233M10102     6321190          30   \n",
       "4      5.0  2024-03-19 21:57:32  EMA2233M10102     6321190          31   \n",
       "\n",
       "     temp  value1  value2  similarityMetric  similarityMetricHr  \\\n",
       "0  35.800       1       0                 0                   0   \n",
       "1  35.794       1       0                 0                   0   \n",
       "2  35.789       1       0                 0                   0   \n",
       "3  35.783       1       0                 0                   0   \n",
       "4  35.777       1       0                 0                   0   \n",
       "\n",
       "   cycletime_upper_threshold  cycletime_lower_threshold  ACCELERATIONS  \n",
       "0                         33                         27            NaN  \n",
       "1                         33                         27            NaN  \n",
       "2                         33                         27            NaN  \n",
       "3                         33                         27            NaN  \n",
       "4                         33                         27            NaN  "
      ]
     },
     "execution_count": 7,
     "metadata": {},
     "output_type": "execute_result"
    }
   ],
   "source": [
    "temp_df = pd.read_csv(\n",
    "    f\"s3://{aws_variables.S3_BUCKET}/sample.csv\",\n",
    "    storage_options={\n",
    "            \"key\": aws_variables.AWS_ACCESS_KEY_ID,\n",
    "            \"secret\": aws_variables.AWS_SECRET_ACCESS_KEY,\n",
    "        },\n",
    ")\n",
    "temp_df.head()"
   ]
  },
  {
   "cell_type": "code",
   "execution_count": null,
   "id": "15bcea75-15be-4b59-b974-d3c1445c19c2",
   "metadata": {},
   "outputs": [],
   "source": []
  },
  {
   "cell_type": "markdown",
   "id": "ebac0a51-27da-4de0-b9b4-e3ef6a3c834b",
   "metadata": {},
   "source": [
    "## Write pandas dataframe to csv file on s3"
   ]
  },
  {
   "cell_type": "code",
   "execution_count": 8,
   "id": "2f55c618-419d-4e6c-b4f5-89a3c704adf4",
   "metadata": {},
   "outputs": [
    {
     "name": "stdout",
     "output_type": "stream",
     "text": [
      "Successful S3 put_object response. Status - 200\n"
     ]
    }
   ],
   "source": [
    "import io\n",
    "\n",
    "books_df = pd.DataFrame(\n",
    "    data={\"Title\": [\"Book I\", \"Book II\", \"Book III\"], \"Price\": [56.6, 59.87, 74.54]},\n",
    "    columns=[\"Title\", \"Price\"],\n",
    ")\n",
    "\n",
    "\n",
    "with io.StringIO() as csv_buffer:\n",
    "    books_df.to_csv(csv_buffer, index=False)\n",
    "\n",
    "    response = s3_client.put_object(\n",
    "        Bucket=aws_variables.S3_BUCKET, Key=\"files/books.csv\", Body=csv_buffer.getvalue()\n",
    "    )\n",
    "\n",
    "    status = response.get(\"ResponseMetadata\", {}).get(\"HTTPStatusCode\")\n",
    "\n",
    "    if status == 200:\n",
    "        print(f\"Successful S3 put_object response. Status - {status}\")\n",
    "    else:\n",
    "        print(f\"Unsuccessful S3 put_object response. Status - {status}\")\n"
   ]
  },
  {
   "cell_type": "markdown",
   "id": "2bb737a5-8eef-4472-8ba0-70bced799c6c",
   "metadata": {},
   "source": [
    "## See thes filesnames or path on s3 buckets"
   ]
  },
  {
   "cell_type": "code",
   "execution_count": 46,
   "id": "2f233e4f-5472-4c22-a053-46b0a1a91831",
   "metadata": {},
   "outputs": [
    {
     "name": "stdout",
     "output_type": "stream",
     "text": [
      "Objects in folder 'Datasets/extracted_data' in bucket 'tft-bucket-v1':\n",
      "Datasets/extracted_data/\n"
     ]
    }
   ],
   "source": [
    "import boto3\n",
    "from botocore.exceptions import NoCredentialsError, PartialCredentialsError\n",
    "\n",
    "def list_s3_objects(bucket_name, folder_prefix):\n",
    "    \"\"\"\n",
    "    List all objects in a specified folder within an S3 bucket.\n",
    "\n",
    "    :param bucket_name: The name of the S3 bucket\n",
    "    :param folder_prefix: The folder prefix to list objects from\n",
    "    :return: A list of object keys\n",
    "    \"\"\"\n",
    "    try:\n",
    "        s3= boto3.client('s3', \n",
    "                             region_name=aws_variables.S3_REGION,\n",
    "                            aws_access_key_id=aws_variables.AWS_ACCESS_KEY_ID,\n",
    "                            aws_secret_access_key=aws_variables.AWS_SECRET_ACCESS_KEY\n",
    "                        )\n",
    "\n",
    "        # Paginator to handle large result sets\n",
    "        paginator = s3.get_paginator('list_objects_v2')\n",
    "\n",
    "        # Create a PageIterator from the Paginator with the specified prefix\n",
    "        page_iterator = paginator.paginate(Bucket=bucket_name, Prefix=folder_prefix)\n",
    "\n",
    "        # List to store object keys\n",
    "        object_keys = []\n",
    "\n",
    "        # Iterate through each page of results\n",
    "        for page in page_iterator:\n",
    "            if 'Contents' in page:\n",
    "                for obj in page['Contents']:\n",
    "                    object_keys.append(obj['Key'])\n",
    "\n",
    "        return object_keys\n",
    "\n",
    "    except NoCredentialsError:\n",
    "        print(\"Error: No AWS credentials found.\")\n",
    "        return None\n",
    "    except PartialCredentialsError:\n",
    "        print(\"Error: Incomplete AWS credentials.\")\n",
    "        return None\n",
    "    except Exception as e:\n",
    "        print(f\"Error: {e}\")\n",
    "        return None\n",
    "\n",
    "# Example usage\n",
    "if __name__ == \"__main__\":\n",
    "    bucket_name = aws_variables.S3_BUCKET\n",
    "    folder_prefix = 'Datasets/extracted_data'  # e.g., 'folder/subfolder/'\n",
    "    objects = list_s3_objects(bucket_name, folder_prefix)\n",
    "    if objects is not None:\n",
    "        print(f\"Objects in folder '{folder_prefix}' in bucket '{bucket_name}':\")\n",
    "        for obj in objects:\n",
    "            print(obj)\n",
    "            break\n"
   ]
  },
  {
   "cell_type": "code",
   "execution_count": null,
   "id": "1af84413-f9f5-4fe1-9134-37959e7fbcdf",
   "metadata": {},
   "outputs": [],
   "source": []
  }
 ],
 "metadata": {
  "kernelspec": {
   "display_name": "Python 3 (ipykernel)",
   "language": "python",
   "name": "python3"
  },
  "language_info": {
   "codemirror_mode": {
    "name": "ipython",
    "version": 3
   },
   "file_extension": ".py",
   "mimetype": "text/x-python",
   "name": "python",
   "nbconvert_exporter": "python",
   "pygments_lexer": "ipython3",
   "version": "3.10.12"
  }
 },
 "nbformat": 4,
 "nbformat_minor": 5
}
